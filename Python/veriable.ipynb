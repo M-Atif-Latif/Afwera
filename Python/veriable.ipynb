{
 "cells": [
  {
   "cell_type": "markdown",
   "metadata": {},
   "source": [
    "# Veriables in Python"
   ]
  },
  {
   "cell_type": "markdown",
   "metadata": {},
   "source": [
    "### Print the basic veriables"
   ]
  },
  {
   "cell_type": "code",
   "execution_count": 31,
   "metadata": {},
   "outputs": [
    {
     "name": "stdout",
     "output_type": "stream",
     "text": [
      "2 <class 'int'>\n",
      "2.24 <class 'float'>\n",
      "Veriables <class 'str'>\n",
      "True <class 'bool'>\n"
     ]
    }
   ],
   "source": [
    "#printing the basic veriable and its type\n",
    "int1=2\n",
    "int2=2.24\n",
    "int3=\"Veriables\"\n",
    "int4=True\n",
    "\n",
    "print(int1, type(int1))\n",
    "print(int2, type(int2))\n",
    "print(int3, type(int3))\n",
    "print(int4, type(int4))"
   ]
  },
  {
   "cell_type": "markdown",
   "metadata": {},
   "source": [
    "#### Concatination"
   ]
  },
  {
   "cell_type": "code",
   "execution_count": 32,
   "metadata": {},
   "outputs": [
    {
     "name": "stdout",
     "output_type": "stream",
     "text": [
      "Muhammad Atif Latif\n"
     ]
    }
   ],
   "source": [
    "# Concatination\n",
    "first_name='Muhammad Atif'\n",
    "last_name='Latif'\n",
    "full_name=first_name + ' ' + last_name\n",
    "print(full_name)"
   ]
  },
  {
   "cell_type": "code",
   "execution_count": 33,
   "metadata": {},
   "outputs": [
    {
     "name": "stdout",
     "output_type": "stream",
     "text": [
      "Muhammad Atif LatifMuhammad Atif Latif\n",
      "Repitition: Muhammad Atif LatifMuhammad Atif Latif\n"
     ]
    }
   ],
   "source": [
    "#Repitition\n",
    "print(full_name *  2)\n",
    "\n",
    "print(\"Repitition:\", full_name * 2)"
   ]
  },
  {
   "cell_type": "markdown",
   "metadata": {},
   "source": [
    "#### F strings\n",
    "- f str is basically introduce in python after python 3.6"
   ]
  },
  {
   "cell_type": "code",
   "execution_count": 34,
   "metadata": {},
   "outputs": [
    {
     "name": "stdout",
     "output_type": "stream",
     "text": [
      "hi! I am Muhammad Atif Latif and my age is 24\n"
     ]
    }
   ],
   "source": [
    "# f string\n",
    "age=\"24\"\n",
    "full_name='Muhammad Atif Latif'\n",
    "print(f\"hi! I am {full_name} and my age is {age}\")"
   ]
  },
  {
   "cell_type": "markdown",
   "metadata": {},
   "source": [
    "#### Nun values"
   ]
  },
  {
   "cell_type": "code",
   "execution_count": 35,
   "metadata": {},
   "outputs": [
    {
     "name": "stdout",
     "output_type": "stream",
     "text": [
      "Age is not None\n"
     ]
    }
   ],
   "source": [
    "# Nun values\n",
    "if age:\n",
    "    print(\"Age is not None\")"
   ]
  },
  {
   "cell_type": "markdown",
   "metadata": {},
   "source": [
    "#### Collection"
   ]
  },
  {
   "cell_type": "code",
   "execution_count": 36,
   "metadata": {},
   "outputs": [
    {
     "name": "stdout",
     "output_type": "stream",
     "text": [
      "[]\n",
      "[1, 2.34, 'Muhammad', True]\n",
      "[1, 2.34, 'Muhammad', True] <class 'list'>\n"
     ]
    }
   ],
   "source": [
    "# Creating list in python\n",
    "empty_list=[]\n",
    "mixed_number=[1, 2.34, 'Muhammad', True]\n",
    "print(empty_list)\n",
    "print(mixed_number)\n",
    "print(mixed_number, type(mixed_number))"
   ]
  },
  {
   "cell_type": "markdown",
   "metadata": {},
   "source": [
    "#### Adding,Removing Etc veriable\n",
    "- for adding the elements we use .append\n",
    "- for removing the elements we use .pop(it remove the last element)\n",
    "- for inserting the elements we use .insert\n",
    "- for changing the elements we use [0]=100"
   ]
  },
  {
   "cell_type": "code",
   "execution_count": 37,
   "metadata": {},
   "outputs": [
    {
     "name": "stdout",
     "output_type": "stream",
     "text": [
      "[1, 2.34, 'Muhammad', True, 2]\n",
      "[1, 2.34, 'Atif', 'Muhammad', True, 2]\n"
     ]
    },
    {
     "ename": "IndexError",
     "evalue": "pop index out of range",
     "output_type": "error",
     "traceback": [
      "\u001b[31m---------------------------------------------------------------------------\u001b[39m",
      "\u001b[31mIndexError\u001b[39m                                Traceback (most recent call last)",
      "\u001b[36mCell\u001b[39m\u001b[36m \u001b[39m\u001b[32mIn[37]\u001b[39m\u001b[32m, line 10\u001b[39m\n\u001b[32m      7\u001b[39m \u001b[38;5;28mprint\u001b[39m(mixed_number)\n\u001b[32m      9\u001b[39m \u001b[38;5;66;03m#Removing the element from list\u001b[39;00m\n\u001b[32m---> \u001b[39m\u001b[32m10\u001b[39m \u001b[43mmixed_number\u001b[49m\u001b[43m.\u001b[49m\u001b[43mpop\u001b[49m\u001b[43m(\u001b[49m\u001b[32;43m6\u001b[39;49m\u001b[43m)\u001b[49m\n\u001b[32m     11\u001b[39m \u001b[38;5;28mprint\u001b[39m(mixed_number)\n\u001b[32m     13\u001b[39m \u001b[38;5;66;03m#change the element in list\u001b[39;00m\n",
      "\u001b[31mIndexError\u001b[39m: pop index out of range"
     ]
    }
   ],
   "source": [
    "#Adding elements to list\n",
    "mixed_number.append(2)\n",
    "print(mixed_number)\n",
    "\n",
    "#inserting the element at specific index\n",
    "mixed_number.insert(2, 'Atif')\n",
    "print(mixed_number)\n",
    "\n",
    "#Removing the element from list\n",
    "mixed_number.pop(6)\n",
    "print(mixed_number)\n",
    "\n",
    "#change the element in list\n",
    "mixed_number[0]=100\n",
    "print(mixed_number)"
   ]
  },
  {
   "cell_type": "markdown",
   "metadata": {},
   "source": [
    "#### Tuple\n",
    "- It is ordered just simillar to list\n",
    "- You can't make change in Tuple"
   ]
  },
  {
   "cell_type": "code",
   "execution_count": null,
   "metadata": {},
   "outputs": [
    {
     "name": "stdout",
     "output_type": "stream",
     "text": [
      "Empty tuple: ()\n",
      "Mixed tuple: (1, 2.34, 'Muhammad', True)\n",
      "Single tuple: (1,)\n"
     ]
    }
   ],
   "source": [
    "#Creating tuple\n",
    "from math import sin\n",
    "\n",
    "\n",
    "empty_tuple=()\n",
    "\n",
    "mixed_tuple=(1, 2.34, 'Muhammad', True)\n",
    "single_tuple=(1,)\n",
    "number_tuple=(1, 2, 3, 4, 5)\n",
    "\n",
    "print(\"Empty tuple:\",empty_tuple)\n",
    "print(\"Mixed tuple:\", mixed_tuple)\n",
    "print(\"Single tuple:\", single_tuple)"
   ]
  },
  {
   "cell_type": "markdown",
   "metadata": {},
   "source": [
    "#### Dictionary\n",
    "- It came after python 3.7\n",
    "- it is un-ordered\n",
    "- Must be unique and immutable"
   ]
  },
  {
   "cell_type": "code",
   "execution_count": null,
   "metadata": {},
   "outputs": [
    {
     "name": "stdout",
     "output_type": "stream",
     "text": [
      "Empty dict: {}\n",
      "Mixed dict: {'name': 'Muhammad Atif', 'age': 24, 'is_student': True, 'courses': ['Python', 'Java', 'C++'], 'address': {'city': 'Karachi', 'country': 'Pakistan'}}\n"
     ]
    }
   ],
   "source": [
    "#creating Dictionary\n",
    "empty_dict={}\n",
    "mixed_dict={\n",
    "    'name': 'Muhammad Atif',\n",
    "    'age': 24,\n",
    "    'is_student': True,\n",
    "    'courses': ['Python', 'Java', 'C++'],\n",
    "    'address': {\n",
    "        'city': 'Karachi',\n",
    "        'country': 'Pakistan'\n",
    "    }\n",
    "}\n",
    "print(\"Empty dict:\", empty_dict)\n",
    "print(\"Mixed dict:\", mixed_dict)"
   ]
  },
  {
   "cell_type": "markdown",
   "metadata": {},
   "source": [
    "#### Set\n",
    "- It can be used for multiple ......\n",
    "- unique identifier"
   ]
  },
  {
   "cell_type": "code",
   "execution_count": null,
   "metadata": {},
   "outputs": [
    {
     "name": "stdout",
     "output_type": "stream",
     "text": [
      "Empty set: set()\n",
      "Mixed set: {1, 2, 3, 4, 5}\n",
      "Adding element to set: {1, 2, 3, 4, 5, 6}\n"
     ]
    }
   ],
   "source": [
    "#Creating set\n",
    "empty_set=set()\n",
    "mixed_set={1, 2, 3, 4, 5}\n",
    "print(\"Empty set:\", empty_set)\n",
    "print(\"Mixed set:\", mixed_set)\n",
    "#Adding elements to set\n",
    "mixed_set.add(6)\n",
    "print(\"Adding element to set:\", mixed_set)"
   ]
  },
  {
   "cell_type": "markdown",
   "metadata": {},
   "source": [
    "## Operators in python"
   ]
  },
  {
   "cell_type": "markdown",
   "metadata": {},
   "source": [
    "#### Assignment operator"
   ]
  },
  {
   "cell_type": "code",
   "execution_count": null,
   "metadata": {},
   "outputs": [],
   "source": [
    "# Assignment operator\n"
   ]
  }
 ],
 "metadata": {
  "kernelspec": {
   "display_name": "Afwera",
   "language": "python",
   "name": "python3"
  },
  "language_info": {
   "codemirror_mode": {
    "name": "ipython",
    "version": 3
   },
   "file_extension": ".py",
   "mimetype": "text/x-python",
   "name": "python",
   "nbconvert_exporter": "python",
   "pygments_lexer": "ipython3",
   "version": "3.12.9"
  }
 },
 "nbformat": 4,
 "nbformat_minor": 2
}
